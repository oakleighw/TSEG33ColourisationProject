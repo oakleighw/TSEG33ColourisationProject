{
 "metadata": {
  "language_info": {
   "codemirror_mode": {
    "name": "ipython",
    "version": 3
   },
   "file_extension": ".py",
   "mimetype": "text/x-python",
   "name": "python",
   "nbconvert_exporter": "python",
   "pygments_lexer": "ipython3",
   "version": "3.8.5-final"
  },
  "orig_nbformat": 2,
  "kernelspec": {
   "name": "python3",
   "display_name": "Python 3.8.5 64-bit (conda)",
   "metadata": {
    "interpreter": {
     "hash": "622be5046a7514208b31c5ff270f0a4cea8aaf7bb018599c2e4329f73ecf086c"
    }
   }
  }
 },
 "nbformat": 4,
 "nbformat_minor": 2,
 "cells": [
  {
   "cell_type": "code",
   "execution_count": 2,
   "metadata": {},
   "outputs": [],
   "source": [
    "from PIL import Image\n",
    "import os"
   ]
  },
  {
   "cell_type": "code",
   "execution_count": null,
   "metadata": {},
   "outputs": [],
   "source": [
    "# Create directories\n",
    "\n",
    "if not os.path.exists('Dataset/Test/'):\n",
    "    os.makedirs('Dataset/Test/')\n",
    "if not os.path.exists('Dataset/Train'):\n",
    "    os.makedirs('Dataset/Train/')\n",
    "if not os.path.exists('Dataset/TestUncropped/'):\n",
    "    os.makedirs('Dataset/TestUncropped/')\n",
    "if not os.path.exists('Dataset/TrainUncrpped'):\n",
    "    os.makedirs('Dataset/TrainUncropped/')"
   ]
  },
  {
   "cell_type": "code",
   "execution_count": 3,
   "metadata": {},
   "outputs": [],
   "source": [
    "#Resize Train\n",
    "\n",
    "count = 1\n",
    "for imagename in os.listdir('Dataset/TrainUncropped/'):\n",
    "    image = Image.open('Dataset/TrainUncropped/'+imagename)\n",
    "    image = image.resize((256,256))\n",
    "    image.save('Dataset/Train/image_'+str(count)+'.jpg')\n",
    "    count+=1 "
   ]
  },
  {
   "cell_type": "code",
   "execution_count": 4,
   "metadata": {},
   "outputs": [],
   "source": [
    "#Resize Test\n",
    "\n",
    "count = 1\n",
    "for imagename in os.listdir('Dataset/TestUncropped/'):\n",
    "    image = Image.open('Dataset/TestUncropped/'+imagename)\n",
    "    image = image.resize((256,256))\n",
    "    image.save('Dataset/Test/image_'+str(count)+'.jpg')\n",
    "    count+=1 "
   ]
  },
  {
   "cell_type": "code",
   "execution_count": null,
   "metadata": {},
   "outputs": [],
   "source": []
  }
 ]
}