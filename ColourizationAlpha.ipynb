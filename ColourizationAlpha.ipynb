{
  "nbformat": 4,
  "nbformat_minor": 0,
  "metadata": {
    "colab": {
      "name": "Colourization with Tensorflow",
      "provenance": [],
      "collapsed_sections": []
    },
    "kernelspec": {
      "name": "python3",
      "display_name": "Python 3",
      "language": "python"
    }
  },
  "cells": [
    {
      "cell_type": "code",
      "metadata": {
        "colab": {
          "base_uri": "https://localhost:8080/"
        },
        "id": "SYHkLYBBiUdE",
        "outputId": "1aa34877-1a94-478b-db80-d2a74740ab70"
      },
      "source": [
        "#EMIL WALLNERS ALPHA COLOURIZATION\n",
        "import numpy as np\n",
        "import os\n",
        "import random\n",
        "import tensorflow as tf\n",
        "from tensorflow import keras\n",
        "\n",
        "from keras.layers import Conv2D, UpSampling2D, InputLayer, Conv2DTranspose\n",
        "from keras.layers import Activation, Dense, Dropout, Flatten\n",
        "from keras.layers import BatchNormalization\n",
        "from keras.models import Sequential\n",
        "from keras.preprocessing.image import ImageDataGenerator, array_to_img, img_to_array, load_img\n",
        "from skimage.color import rgb2lab, lab2rgb, rgb2gray, xyz2lab\n",
        "from skimage.io import imsave"
      ],
      "execution_count": 15,
      "outputs": [
        {
          "output_type": "stream",
          "name": "stderr",
          "text": [
            "Using TensorFlow backend.\n"
          ]
        }
      ]
    },
    {
      "cell_type": "code",
      "metadata": {
        "id": "X24FgTPRixHA"
      },
      "source": [
        "#Added this here\n",
        "# Get images\n",
        "image = img_to_array(load_img('image_00011.jpg'))\n",
        "image = np.array(image, dtype=float)"
      ],
      "execution_count": 16,
      "outputs": []
    },
    {
      "cell_type": "code",
      "metadata": {
        "id": "GHRjfIpViqzT"
      },
      "source": [
        "X = rgb2lab(1.0/255*image)[:,:,0]\r\n",
        "Y = rgb2lab(1.0/255*image)[:,:,1:]\r\n",
        "Y /= 128\r\n",
        "X = X.reshape(1, 400, 400, 1)\r\n",
        "Y = Y.reshape(1, 400, 400, 2)"
      ],
      "execution_count": 17,
      "outputs": [
        {
          "output_type": "error",
          "ename": "ValueError",
          "evalue": "cannot reshape array of size 374000 into shape (1,400,400,1)",
          "traceback": [
            "\u001b[1;31m---------------------------------------------------------------------------\u001b[0m",
            "\u001b[1;31mValueError\u001b[0m                                Traceback (most recent call last)",
            "\u001b[1;32m<ipython-input-17-7323d23f57cb>\u001b[0m in \u001b[0;36m<module>\u001b[1;34m\u001b[0m\n\u001b[0;32m      2\u001b[0m \u001b[0mY\u001b[0m \u001b[1;33m=\u001b[0m \u001b[0mrgb2lab\u001b[0m\u001b[1;33m(\u001b[0m\u001b[1;36m1.0\u001b[0m\u001b[1;33m/\u001b[0m\u001b[1;36m255\u001b[0m\u001b[1;33m*\u001b[0m\u001b[0mimage\u001b[0m\u001b[1;33m)\u001b[0m\u001b[1;33m[\u001b[0m\u001b[1;33m:\u001b[0m\u001b[1;33m,\u001b[0m\u001b[1;33m:\u001b[0m\u001b[1;33m,\u001b[0m\u001b[1;36m1\u001b[0m\u001b[1;33m:\u001b[0m\u001b[1;33m]\u001b[0m\u001b[1;33m\u001b[0m\u001b[1;33m\u001b[0m\u001b[0m\n\u001b[0;32m      3\u001b[0m \u001b[0mY\u001b[0m \u001b[1;33m/=\u001b[0m \u001b[1;36m128\u001b[0m\u001b[1;33m\u001b[0m\u001b[1;33m\u001b[0m\u001b[0m\n\u001b[1;32m----> 4\u001b[1;33m \u001b[0mX\u001b[0m \u001b[1;33m=\u001b[0m \u001b[0mX\u001b[0m\u001b[1;33m.\u001b[0m\u001b[0mreshape\u001b[0m\u001b[1;33m(\u001b[0m\u001b[1;36m1\u001b[0m\u001b[1;33m,\u001b[0m \u001b[1;36m400\u001b[0m\u001b[1;33m,\u001b[0m \u001b[1;36m400\u001b[0m\u001b[1;33m,\u001b[0m \u001b[1;36m1\u001b[0m\u001b[1;33m)\u001b[0m\u001b[1;33m\u001b[0m\u001b[1;33m\u001b[0m\u001b[0m\n\u001b[0m\u001b[0;32m      5\u001b[0m \u001b[0mY\u001b[0m \u001b[1;33m=\u001b[0m \u001b[0mY\u001b[0m\u001b[1;33m.\u001b[0m\u001b[0mreshape\u001b[0m\u001b[1;33m(\u001b[0m\u001b[1;36m1\u001b[0m\u001b[1;33m,\u001b[0m \u001b[1;36m400\u001b[0m\u001b[1;33m,\u001b[0m \u001b[1;36m400\u001b[0m\u001b[1;33m,\u001b[0m \u001b[1;36m2\u001b[0m\u001b[1;33m)\u001b[0m\u001b[1;33m\u001b[0m\u001b[1;33m\u001b[0m\u001b[0m\n",
            "\u001b[1;31mValueError\u001b[0m: cannot reshape array of size 374000 into shape (1,400,400,1)"
          ]
        }
      ]
    },
    {
      "cell_type": "code",
      "metadata": {
        "id": "vBvj_QZfisLl"
      },
      "source": [
        "# Building the neural network\r\n",
        "model = Sequential()\r\n",
        "model.add(InputLayer(input_shape=(None, None, 1)))\r\n",
        "model.add(Conv2D(8, (3, 3), activation='relu', padding='same', strides=2))\r\n",
        "model.add(Conv2D(8, (3, 3), activation='relu', padding='same'))\r\n",
        "model.add(Conv2D(16, (3, 3), activation='relu', padding='same'))\r\n",
        "model.add(Conv2D(16, (3, 3), activation='relu', padding='same', strides=2))\r\n",
        "model.add(Conv2D(32, (3, 3), activation='relu', padding='same'))\r\n",
        "model.add(Conv2D(32, (3, 3), activation='relu', padding='same', strides=2))\r\n",
        "model.add(UpSampling2D((2, 2)))\r\n",
        "model.add(Conv2D(32, (3, 3), activation='relu', padding='same'))\r\n",
        "model.add(UpSampling2D((2, 2)))\r\n",
        "model.add(Conv2D(16, (3, 3), activation='relu', padding='same'))\r\n",
        "model.add(UpSampling2D((2, 2)))\r\n",
        "model.add(Conv2D(2, (3, 3), activation='tanh', padding='same'))"
      ],
      "execution_count": null,
      "outputs": []
    },
    {
      "cell_type": "code",
      "metadata": {
        "id": "M5eLnAaTis36"
      },
      "source": [
        "# Finish model\r\n",
        "model.compile(optimizer='rmsprop',loss='mse')"
      ],
      "execution_count": null,
      "outputs": []
    },
    {
      "cell_type": "code",
      "metadata": {
        "id": "x55fi7H72la6"
      },
      "source": [
        "model.fit(x=X, \r\n",
        "    y=Y,\r\n",
        "    batch_size=1,\r\n",
        "    epochs=1000)"
      ],
      "execution_count": null,
      "outputs": []
    },
    {
      "cell_type": "code",
      "metadata": {
        "id": "MoRCzhNt2oV8"
      },
      "source": [
        "print(model.evaluate(X, Y, batch_size=1))\r\n",
        "output = model.predict(X)\r\n",
        "output *= 128\r\n",
        "# Output colorizations\r\n",
        "cur = np.zeros((400, 400, 3))\r\n",
        "cur[:,:,0] = X[0][:,:,0]\r\n",
        "cur[:,:,1:] = output[0]\r\n",
        "imsave(\"img_result.png\", lab2rgb(cur))\r\n",
        "imsave(\"img_gray_version.png\", rgb2gray(lab2rgb(cur)))"
      ],
      "execution_count": null,
      "outputs": []
    }
  ]
}